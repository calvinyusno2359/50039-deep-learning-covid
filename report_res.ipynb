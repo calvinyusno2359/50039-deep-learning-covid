{
 "cells": [
  {
   "cell_type": "markdown",
   "metadata": {},
   "source": [
    "# Results\n",
    "\n",
    "The results will be delivered by specifying args to the test file. For brevity, we will compare results in the following manner:\n",
    "\n",
    "1. Independent Binary Accuracy\n",
    "2. Independent Binary Sensitivity\n",
    "3. Independent Binary Confusion Matrix\n",
    "4. Piped Binary Accuracy\n",
    "5. Piped Binary Sensitivity\n",
    "6. Comparison of Validation Images\n",
    "\n",
    "2 classifiers will be used throughout. One of it is referred to as the \"normal\" classifier, which outputs 0 for normal, 1 for infected (both covid and non-covid). The other one is referred to as the \"covid\" classifier, which outputs 0 for non-covid, 1 for covid."
   ]
  },
  {
   "cell_type": "markdown",
   "metadata": {},
   "source": [
    "## 1. Independent Binary Accuracy\n",
    "\n",
    "For this, both binary classifiers are treated as independent as we are interested in their individual accuracy in terms of predicting labels that are the same as the ground truth. The metric that we will be focusing on will be \"Testing Accuracy\". "
   ]
  },
  {
   "cell_type": "code",
   "execution_count": null,
   "metadata": {},
   "outputs": [],
   "source": [
    "# command with --independent True --validation False --print True --output_var 2 --normalclf (insert model name) --covidclf (insert model name)"
   ]
  },
  {
   "cell_type": "markdown",
   "metadata": {},
   "source": [
    "## 2. Independent Binary Sensitivity\n",
    "\n",
    "Similarly, both binary classifiers are treated as independent. The metric that we will be focusing on will be the \"Testing Sensitivity\". The metric reflects how well the model is prioritising misclassifying cases as covid ones as a preventive measure."
   ]
  },
  {
   "cell_type": "code",
   "execution_count": null,
   "metadata": {},
   "outputs": [],
   "source": [
    "# command with --independent True --validation False --print True --output_var 2 --normalclf (insert model name) --covidclf (insert model name)"
   ]
  },
  {
   "cell_type": "markdown",
   "metadata": {},
   "source": [
    "## 3. Independent Binary Confusion Matrix"
   ]
  },
  {
   "cell_type": "code",
   "execution_count": 23,
   "metadata": {},
   "outputs": [
    {
     "data": {
      "text/plain": [
       "<matplotlib.collections.PathCollection at 0x1cfc43a61d0>"
      ]
     },
     "execution_count": 23,
     "metadata": {},
     "output_type": "execute_result"
    },
    {
     "data": {
      "image/png": "[encoded data removed]",
      "text/plain": [
       "<Figure size 432x288 with 6 Axes>"
      ]
     },
     "metadata": {
      "needs_background": "light"
     },
     "output_type": "display_data"
    }
   ],
   "source": [
    "import matplotlib.pyplot as plt\n",
    "import numpy as np\n",
    "\n",
    "# First create some toy data:\n",
    "x = np.linspace(0, 2*np.pi, 400)\n",
    "y = np.sin(x**2)\n",
    "\n",
    "# Create two subplots and unpack the output array immediately\n",
    "f, (ax1, ax2, ax3) = plt.subplots(3, 2, sharey=True)\n",
    "ax1[1].plot(x, y)\n",
    "ax1[0].set_title('Sharing Y axis')\n",
    "ax2[0].scatter(x, y)\n"
   ]
  },
  {
   "cell_type": "code",
   "execution_count": 24,
   "metadata": {},
   "outputs": [
    {
     "name": "stdout",
     "output_type": "stream",
     "text": [
      "Confusion Matrix\n",
      "          Predicted N | Predicted P\n",
      "         ---------------------------\n",
      "Ground N |   TN = {}  |   FP = {}   \n"
     ]
    }
   ],
   "source": [
    "print('Confusion Matrix')\n",
    "print('          Predicted N | Predicted P')\n",
    "print('         ---------------------------')\n",
    "print('Ground N |   TN = {}  |   FP = {}   |').format(TN, FP)\n",
    "print('Ground P |   FN = {}  |   TP = {}   |').format(FN, TP)"
   ]
  },
  {
   "cell_type": "code",
   "execution_count": null,
   "metadata": {},
   "outputs": [],
   "source": []
  }
 ],
 "metadata": {
  "kernelspec": {
   "display_name": "Python 3",
   "language": "python",
   "name": "python3"
  },
  "language_info": {
   "codemirror_mode": {
    "name": "ipython",
    "version": 3
   },
   "file_extension": ".py",
   "mimetype": "text/x-python",
   "name": "python",
   "nbconvert_exporter": "python",
   "pygments_lexer": "ipython3",
   "version": "3.6.12"
  }
 },
 "nbformat": 4,
 "nbformat_minor": 4
}
