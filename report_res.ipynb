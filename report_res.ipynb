{
 "cells": [
  {
   "cell_type": "markdown",
   "metadata": {},
   "source": [
    "## Results\n",
    "\n",
    "1. Accuracy of binary piped and trinary test of optimising accuracy VS optimising sensitivity\n",
    "2. confusion matrix\n",
    "3. results on validation set (correct vs wrong classification\n",
    "\n",
    "\n",
    "reslt (rn test, compare reslt of acc optimized, sensitivty ooptimized, confsion matirri, show img of wrong classification)"
   ]
  }
 ],
 "metadata": {
  "kernelspec": {
   "display_name": "Python 3",
   "language": "python",
   "name": "python3"
  },
  "language_info": {
   "codemirror_mode": {
    "name": "ipython",
    "version": 3
   },
   "file_extension": ".py",
   "mimetype": "text/x-python",
   "name": "python",
   "nbconvert_exporter": "python",
   "pygments_lexer": "ipython3",
   "version": "3.6.12"
  }
 },
 "nbformat": 4,
 "nbformat_minor": 4
}
