{
 "cells": [
  {
   "cell_type": "markdown",
   "metadata": {},
   "source": [
    "# Introdction"
   ]
  },
  {
   "cell_type": "markdown",
   "metadata": {},
   "source": [
    "The goal of this project is to create a model that will assist doctors with identification of patients infected with pneumonia symptoms either due to covid or non-covid disease."
   ]
  },
  {
   "cell_type": "markdown",
   "metadata": {},
   "source": [
    "## Project Structure"
   ]
  },
  {
   "cell_type": "markdown",
   "metadata": {},
   "source": [
    "# Dataset & Dataloader"
   ]
  },
  {
   "cell_type": "code",
   "execution_count": 7,
   "metadata": {},
   "outputs": [],
   "source": [
    "from dataset import BinaryClassDataset, TrinaryClassDataset\n",
    "from torch.utils.data import DataLoader, ConcatDataset\n",
    "\n",
    "trainingBatchSize = 4\n",
    "img_size = (150, 150)\n",
    "class_dict = {0: 'normal', 1: 'infected'}\n",
    "groups = ['train']\n",
    "dataset_numbers = {'train_normal': 0,\n",
    "                   'train_infected': 2530,\n",
    "                   }\n",
    "\n",
    "dataset_paths = {'train_normal': './dataset/train/normal/',\n",
    "                 'train_infected': './dataset/train/infected/non-covid',\n",
    "                 }\n",
    "\n",
    "trainset1 = BinaryClassDataset('train', img_size, class_dict, groups, dataset_numbers, dataset_paths)\n",
    "\n",
    "dataset_numbers = {'train_normal': 1341,\n",
    "                   'train_infected': 1345,\n",
    "                   }\n",
    "\n",
    "dataset_paths = {'train_normal': './dataset/train/normal/',\n",
    "                 'train_infected': './dataset/train/infected/covid',\n",
    "                 }\n",
    "\n",
    "trainset2 = BinaryClassDataset('train', img_size, class_dict, groups, dataset_numbers, dataset_paths)\n",
    "\n",
    "# load dataset\n",
    "trainsets = ConcatDataset([trainset1, trainset2])\n",
    "trainloader = DataLoader(trainsets, batch_size=trainingBatchSize, shuffle=True)\n",
    "\n",
    "val_groups = ['val']\n",
    "val_numbers = {'val_normal': 8,\n",
    "               'val_infected': 8,\n",
    "               }\n",
    "\n",
    "valset_paths = {'val_normal': './dataset/test/normal',\n",
    "                'val_infected': './dataset/test/infected/covid',\n",
    "                }\n",
    "\n",
    "valset1 = BinaryClassDataset('val', img_size, class_dict, val_groups, val_numbers, valset_paths)\n",
    "\n",
    "val_numbers = {'val_normal': 0,\n",
    "               'val_infected': 8,\n",
    "               }\n",
    "\n",
    "valset_paths = {'val_normal': './dataset/val/normal',\n",
    "                'val_infected': './dataset/val/infected/non-covid',\n",
    "                }\n",
    "\n",
    "valset2 = BinaryClassDataset('val', img_size, class_dict, val_groups, val_numbers, valset_paths)\n",
    "\n",
    "# load dataset\n",
    "valsets = ConcatDataset([valset1, valset2])\n",
    "validationloader = DataLoader(valsets, batch_size=trainingBatchSize, shuffle=True)"
   ]
  },
  {
   "cell_type": "code",
   "execution_count": 15,
   "metadata": {},
   "outputs": [
    {
     "data": {
      "text/plain": [
       "(tensor(0.4824), tensor(0.2363))"
      ]
     },
     "execution_count": 15,
     "metadata": {},
     "output_type": "execute_result"
    }
   ],
   "source": [
    "# getting normalization value\n",
    "train_data = DataLoader(trainsets, batch_size=(2530+1341+1345), shuffle=True)\n",
    "data = next(iter(train_data))\n",
    "data[0].mean(), data[0].std()\n"
   ]
  },
  {
   "cell_type": "code",
   "execution_count": null,
   "metadata": {},
   "outputs": [],
   "source": []
  }
 ],
 "metadata": {
  "kernelspec": {
   "display_name": "Python 3",
   "language": "python",
   "name": "python3"
  },
  "language_info": {
   "codemirror_mode": {
    "name": "ipython",
    "version": 3
   },
   "file_extension": ".py",
   "mimetype": "text/x-python",
   "name": "python",
   "nbconvert_exporter": "python",
   "pygments_lexer": "ipython3",
   "version": "3.6.12"
  }
 },
 "nbformat": 4,
 "nbformat_minor": 4
}
